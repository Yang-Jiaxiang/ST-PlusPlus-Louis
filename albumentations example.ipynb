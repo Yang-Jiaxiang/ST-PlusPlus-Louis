{
 "cells": [
  {
   "cell_type": "markdown",
   "metadata": {},
   "source": [
    "https://github.com/qubvel/segmentation_models.pytorch"
   ]
  },
  {
   "cell_type": "code",
   "execution_count": 1,
   "metadata": {},
   "outputs": [],
   "source": [
    "# Install required libs\n",
    "#!pip install -U segmentation-models-pytorch albumentations --user "
   ]
  },
  {
   "cell_type": "code",
   "execution_count": 2,
   "metadata": {},
   "outputs": [],
   "source": [
    "#!pip uninstall -y segmentation-models-pytorch"
   ]
  },
  {
   "cell_type": "code",
   "execution_count": null,
   "metadata": {},
   "outputs": [],
   "source": []
  },
  {
   "cell_type": "markdown",
   "metadata": {},
   "source": [
    "### "
   ]
  },
  {
   "cell_type": "code",
   "execution_count": 3,
   "metadata": {},
   "outputs": [
    {
     "name": "stdout",
     "output_type": "stream",
     "text": [
      "Thu Mar  2 03:18:26 2023       \n",
      "+-----------------------------------------------------------------------------+\n",
      "| NVIDIA-SMI 418.56       Driver Version: 418.56       CUDA Version: 10.1     |\n",
      "|-------------------------------+----------------------+----------------------+\n",
      "| GPU  Name        Persistence-M| Bus-Id        Disp.A | Volatile Uncorr. ECC |\n",
      "| Fan  Temp  Perf  Pwr:Usage/Cap|         Memory-Usage | GPU-Util  Compute M. |\n",
      "|===============================+======================+======================|\n",
      "|   0  GeForce GTX 108...  Off  | 00000000:5E:00.0 Off |                  N/A |\n",
      "|  0%   44C    P5    14W / 280W |      0MiB / 11178MiB |      0%      Default |\n",
      "+-------------------------------+----------------------+----------------------+\n",
      "|   1  GeForce GTX 108...  Off  | 00000000:AF:00.0 Off |                  N/A |\n",
      "|  0%   41C    P5    23W / 280W |      0MiB / 11178MiB |      0%      Default |\n",
      "+-------------------------------+----------------------+----------------------+\n",
      "                                                                               \n",
      "+-----------------------------------------------------------------------------+\n",
      "| Processes:                                                       GPU Memory |\n",
      "|  GPU       PID   Type   Process name                             Usage      |\n",
      "|=============================================================================|\n",
      "|  No running processes found                                                 |\n",
      "+-----------------------------------------------------------------------------+\n"
     ]
    }
   ],
   "source": [
    "!nvidia-smi"
   ]
  },
  {
   "cell_type": "code",
   "execution_count": 4,
   "metadata": {},
   "outputs": [],
   "source": [
    "from tqdm import tqdm\n",
    "import glob, os\n",
    "from urllib.request import urlretrieve\n",
    "import shutil\n",
    "import cv2\n",
    "import random\n",
    "# from tensorflow.keras.preprocessing.image import ImageDataGenerator\n",
    "# import tensorflow as tf\n",
    "# from tensorflow import keras"
   ]
  },
  {
   "cell_type": "markdown",
   "metadata": {},
   "source": [
    "## Define functions to download an archived dataset and unpack it"
   ]
  },
  {
   "cell_type": "code",
   "execution_count": 5,
   "metadata": {},
   "outputs": [],
   "source": [
    "# class TqdmUpTo(tqdm):\n",
    "#     def update_to(self, b=1, bsize=1, tsize=None):\n",
    "#         if tsize is not None:\n",
    "#             self.total = tsize\n",
    "#         self.update(b * bsize - self.n)\n",
    "\n",
    "\n",
    "# def download_url(url, filepath):\n",
    "#     directory = os.path.dirname(os.path.abspath(filepath))\n",
    "#     os.makedirs(directory, exist_ok=False)\n",
    "#     if os.path.exists(filepath):\n",
    "#         print(\"Dataset already exists on the disk. Skipping download.\")\n",
    "#         return\n",
    "\n",
    "#     with TqdmUpTo(unit=\"B\", unit_scale=True, unit_divisor=1024, miniters=1, desc=os.path.basename(filepath)) as t:\n",
    "#         urlretrieve(url, filename=filepath, reporthook=t.update_to, data=None)\n",
    "#         t.total = t.n\n",
    "\n",
    "# # 提取存檔檔案\n",
    "# # os.path.dirname(path) 返回文件路徑\n",
    "# # os.path.abspath(path) 返回絕對路徑\n",
    "# def extract_archive(filepath):\n",
    "#     extract_dir = os.path.dirname(os.path.abspath(filepath))\n",
    "#     shutil.unpack_archive(filepath, extract_dir)"
   ]
  },
  {
   "cell_type": "code",
   "execution_count": 6,
   "metadata": {},
   "outputs": [
    {
     "data": {
      "text/plain": [
       "'/tf/notebook/0.research/kidney'"
      ]
     },
     "execution_count": 6,
     "metadata": {},
     "output_type": "execute_result"
    }
   ],
   "source": [
    "pwd"
   ]
  },
  {
   "cell_type": "code",
   "execution_count": 7,
   "metadata": {},
   "outputs": [],
   "source": [
    "# 先建立 Data 資料夾\n",
    "path = \"./\"\n",
    "dataset_directory = os.path.join(path, \"Data\")"
   ]
  },
  {
   "cell_type": "code",
   "execution_count": 8,
   "metadata": {},
   "outputs": [],
   "source": [
    "# # 在 Datasets 資料夾下建立 Brain_Tumour_Segmentation.zip 資料夾\n",
    "# filepath = os.path.join(dataset_directory, \"Brain_Tumour_Segmentation.zip\")\n",
    "\n",
    "# # download_url前面定義過，為了確認 Brain_Tumour_Segmentation.zip 資料夾是否存在，若存在則忽略\n",
    "# # download_url(\n",
    "# #     url=\"path\", filepath=filepath,\n",
    "# # )\n",
    "\n",
    "# # 前面定義過，用來提取存檔檔案，並解壓縮\n",
    "# extract_archive(filepath)"
   ]
  },
  {
   "cell_type": "markdown",
   "metadata": {},
   "source": [
    "## Loading data"
   ]
  },
  {
   "cell_type": "markdown",
   "metadata": {},
   "source": [
    "For this example we will use **CamVid** dataset. It is a set of:\n",
    " - **train** images + segmentation masks\n",
    " - **validation** images + segmentation masks\n",
    " - **test** images + segmentation masks\n",
    " \n",
    "All images have 320 pixels height and 480 pixels width.\n",
    "For more inforamtion about dataset visit http://mi.eng.cam.ac.uk/research/projects/VideoRec/CamVid/."
   ]
  },
  {
   "cell_type": "code",
   "execution_count": 9,
   "metadata": {},
   "outputs": [],
   "source": [
    "import os\n",
    "# for 2 gpu\n",
    "os.environ['CUDA_VISIBLE_DEVICES'] = '0,1'\n",
    "\n",
    "import numpy as np\n",
    "import cv2\n",
    "import matplotlib.pyplot as plt"
   ]
  },
  {
   "cell_type": "code",
   "execution_count": 10,
   "metadata": {},
   "outputs": [],
   "source": [
    "DATA_DIR = './0_Data/'\n",
    "\n",
    "# DATA_DIR = './data/CamVid/'\n",
    "# # load repo with data if it is not exists\n",
    "# if not os.path.exists(DATA_DIR):\n",
    "#     print('Loading data...')\n",
    "#     os.system('git clone https://github.com/alexgkendall/SegNet-Tutorial ./data')\n",
    "#     print('Done!')"
   ]
  },
  {
   "cell_type": "code",
   "execution_count": 11,
   "metadata": {},
   "outputs": [],
   "source": [
    "# 叫出資料（原始影像＆Ｍask）的位置\n",
    "x_train_dir = os.path.join(DATA_DIR, 'Train/img')\n",
    "y_train_dir = os.path.join(DATA_DIR, 'Train/label')\n",
    "\n",
    "x_valid_dir = os.path.join(DATA_DIR, 'Valid/img')\n",
    "y_valid_dir = os.path.join(DATA_DIR, 'Valid/label')\n",
    "\n",
    "x_test_dir = os.path.join(DATA_DIR, 'Test/img')\n",
    "y_test_dir = os.path.join(DATA_DIR, 'Test/label')"
   ]
  },
  {
   "cell_type": "code",
   "execution_count": 12,
   "metadata": {},
   "outputs": [
    {
     "name": "stdout",
     "output_type": "stream",
     "text": [
      "./0_Data/Train/img\n"
     ]
    }
   ],
   "source": [
    "print(x_train_dir)"
   ]
  },
  {
   "cell_type": "code",
   "execution_count": 13,
   "metadata": {},
   "outputs": [],
   "source": [
    "# print(len(x_train_dir))\n",
    "# print(len(y_train_dir))\n",
    "\n",
    "# print(len(x_valid_dir))\n",
    "# print(len(y_valid_dir))\n",
    "\n",
    "# print(len(x_test_dir))\n",
    "# print(len(y_test_dir))"
   ]
  },
  {
   "cell_type": "code",
   "execution_count": null,
   "metadata": {},
   "outputs": [],
   "source": []
  },
  {
   "cell_type": "code",
   "execution_count": 14,
   "metadata": {},
   "outputs": [],
   "source": [
    "# helper function for data visualization\n",
    "def visualize(**images):\n",
    "    \"\"\"PLot images in one row.\"\"\"\n",
    "    n = len(images)\n",
    "    plt.figure(figsize=(16, 5))\n",
    "    for i, (name, image) in enumerate(images.items()):\n",
    "        plt.subplot(1, n, i + 1)\n",
    "        plt.xticks([])\n",
    "        plt.yticks([])\n",
    "        plt.title(' '.join(name.split('_')).title())\n",
    "        plt.imshow(image)\n",
    "    plt.show()"
   ]
  },
  {
   "cell_type": "markdown",
   "metadata": {},
   "source": [
    "### Dataloader\n",
    "\n",
    "Writing helper class for data extraction, tranformation and preprocessing  \n",
    "https://pytorch.org/docs/stable/data"
   ]
  },
  {
   "cell_type": "code",
   "execution_count": 15,
   "metadata": {},
   "outputs": [],
   "source": [
    "from torch.utils.data import DataLoader\n",
    "from torch.utils.data import Dataset as BaseDataset\n",
    "from torchvision import transforms"
   ]
  },
  {
   "cell_type": "code",
   "execution_count": 16,
   "metadata": {},
   "outputs": [],
   "source": [
    "class Dataset(BaseDataset):\n",
    "    \"\"\"CamVid Dataset. Read images, apply augmentation and preprocessing transformations.\n",
    "    \n",
    "    Args:\n",
    "        images_dir (str): path to images folder\n",
    "        masks_dir (str): path to segmentation masks folder\n",
    "        class_values (list): values of classes to extract from segmentation mask\n",
    "        augmentation (albumentations.Compose): data transfromation pipeline \n",
    "            (e.g. flip, scale, etc.)\n",
    "        preprocessing (albumentations.Compose): data preprocessing \n",
    "            (e.g. noralization, shape manipulation, etc.)\n",
    "    \n",
    "    \"\"\"\n",
    "    \n",
    "    # CLASSES = ['sky', 'building', 'pole', 'road', 'pavement', \n",
    "    #            'tree', 'signsymbol', 'fence', 'car', \n",
    "    #            'pedestrian', 'bicyclist', 'unlabelled']\n",
    "    # CLASSES = ['tumor']\n",
    "    CLASSES = ['bg','kidney']\n",
    "    \n",
    "    def __init__(\n",
    "        self, \n",
    "        images_dir, \n",
    "        masks_dir, \n",
    "        classes=None, \n",
    "        augmentation=None, \n",
    "        preprocessing=None\n",
    "        \n",
    "    ):\n",
    "        self.ids = os.listdir(images_dir)\n",
    "        self.images_fps = [os.path.join(images_dir, image_id) for image_id in self.ids]\n",
    "        self.masks_fps = [os.path.join(masks_dir, image_id) for image_id in self.ids]\n",
    "\n",
    "        # convert str names to class values on masks\n",
    "        self.class_values = [self.CLASSES.index(cls.lower()) for cls in classes]\n",
    "        print('class_values:',self.class_values)\n",
    "        \n",
    "        self.augmentation = augmentation\n",
    "        self.preprocessing = preprocessing\n",
    "    \n",
    "    def __getitem__(self, i):\n",
    "        \n",
    "        # read data\n",
    "        image = cv2.imread(self.images_fps[i])\n",
    "        image = cv2.cvtColor(image, cv2.COLOR_BGR2RGB)\n",
    "        # read 灰階 mask\n",
    "        mask = cv2.imread(self.masks_fps[i],0)\n",
    "        # mask = cv2.cvtColor(mask, cv2.COLOR_BGR2GRAY)\n",
    "        mask = mask//255\n",
    "        \n",
    "        # 將 1 channel 的 mask normalize 0~1\n",
    "        # transform = transforms.Compose([\n",
    "        #     transforms.ToTensor(),\n",
    "        #     transforms.Normalize(mean = (0), std = (1))\n",
    "        # ])\n",
    "        # mask = transform(mask)\n",
    "        # print('mask:',mask)\n",
    "        # print('mask//255:',mask//255)\n",
    "        # print(mask.shape)\n",
    "        \n",
    "        # extract certain classes from mask (e.g. tumor)\n",
    "        masks = [(mask == v) for v in self.class_values]\n",
    "        # print('masks(certain classes):',masks[0])\n",
    "        mask = np.stack(masks, axis=-1).astype('float')\n",
    "        \n",
    "        # print('mask = masks (masks轉成數值並不定column維度):\\n',mask[0])\n",
    "        # print(mask.shape)\n",
    "        \n",
    "        # apply augmentations\n",
    "        if self.augmentation:\n",
    "            sample = self.augmentation(image=image, mask=mask)\n",
    "            image, mask = sample['image'], sample['mask']\n",
    "        \n",
    "        # apply preprocessing\n",
    "        if self.preprocessing:\n",
    "            sample = self.preprocessing(image=image, mask=mask)\n",
    "            image, mask = sample['image'], sample['mask']\n",
    "        return image, mask\n",
    "        \n",
    "    def __len__(self):\n",
    "        return len(self.ids)"
   ]
  },
  {
   "cell_type": "code",
   "execution_count": 17,
   "metadata": {
    "tags": []
   },
   "outputs": [
    {
     "name": "stdout",
     "output_type": "stream",
     "text": [
      "class_values: [1]\n",
      "(768, 1024, 1)\n",
      "(768, 1024)\n",
      "(768, 1024, 3)\n",
      "(768, 1024, 3)\n"
     ]
    },
    {
     "data": {
      "image/png": "[encoded data removed]",
      "text/plain": [
       "<Figure size 1152x360 with 2 Axes>"
      ]
     },
     "metadata": {},
     "output_type": "display_data"
    },
    {
     "name": "stdout",
     "output_type": "stream",
     "text": [
      "(768, 1024, 1)\n",
      "(768, 1024)\n"
     ]
    }
   ],
   "source": [
    "# Lets look at data we have\n",
    "\n",
    "dataset = Dataset(x_train_dir, y_train_dir, classes=['kidney'])\n",
    "\n",
    "image, mask = dataset[4] # get some sample\n",
    "print(mask.shape)\n",
    "print(mask.squeeze().shape)\n",
    "print(image.shape)\n",
    "print(image.squeeze().shape)\n",
    "visualize(\n",
    "    image=image.squeeze(),#(H,W)\n",
    "    kidney_mask=mask.squeeze(),#為了符合image shape,(B,H,W,c)-->(H,W)\n",
    ")\n",
    "\n",
    "\n",
    "# print('image:\\n',image)\n",
    "# print('mask[0]:\\n',mask[0])\n",
    "print(mask.shape)\n",
    "print(mask.squeeze().shape)"
   ]
  },
  {
   "cell_type": "code",
   "execution_count": 18,
   "metadata": {},
   "outputs": [],
   "source": [
    "# print(image.shape)\n",
    "# print(mask.shape)\n",
    "# print(mask[0])\n",
    "# print(len(dataset))\n",
    "# print(dataset[4])\n"
   ]
  },
  {
   "cell_type": "code",
   "execution_count": 19,
   "metadata": {},
   "outputs": [
    {
     "data": {
      "text/plain": [
       "'/tf/notebook/0.research/kidney'"
      ]
     },
     "execution_count": 19,
     "metadata": {},
     "output_type": "execute_result"
    }
   ],
   "source": [
    "pwd"
   ]
  },
  {
   "cell_type": "code",
   "execution_count": 20,
   "metadata": {},
   "outputs": [],
   "source": [
    "import glob\n",
    "import os\n",
    "\n",
    "# 將三個資料夾存入 dirlist\n",
    "images = []\n",
    "\n",
    "for image in glob.glob('./0_Data/Train/img/*.jpg'):\n",
    "    # print(type(image))\n",
    "    # image = sorted(image)\n",
    "    images.append(image)\n",
    "    # print(image)"
   ]
  },
  {
   "cell_type": "code",
   "execution_count": 21,
   "metadata": {},
   "outputs": [
    {
     "name": "stdout",
     "output_type": "stream",
     "text": [
      "0\n",
      "800 564\n",
      "1\n",
      "1024 768\n",
      "2\n",
      "1024 768\n",
      "3\n",
      "960 720\n",
      "4\n",
      "1024 768\n",
      "5\n",
      "800 600\n",
      "6\n",
      "1050 788\n",
      "7\n",
      "800 564\n",
      "8\n",
      "1050 788\n",
      "9\n",
      "1024 768\n",
      "10\n",
      "1024 768\n",
      "11\n",
      "1050 788\n",
      "12\n",
      "800 564\n",
      "13\n",
      "1024 768\n",
      "14\n",
      "960 720\n",
      "15\n",
      "960 720\n",
      "16\n",
      "1024 768\n",
      "17\n",
      "1024 768\n",
      "18\n",
      "1024 768\n",
      "19\n",
      "640 476\n",
      "20\n",
      "1024 768\n",
      "21\n",
      "960 720\n",
      "22\n",
      "800 564\n",
      "23\n",
      "960 720\n",
      "24\n",
      "1024 768\n",
      "25\n",
      "800 564\n",
      "26\n",
      "800 600\n",
      "27\n",
      "1024 768\n",
      "28\n",
      "960 720\n",
      "29\n",
      "975 735\n",
      "30\n",
      "1024 768\n",
      "31\n",
      "960 720\n",
      "32\n",
      "1164 873\n",
      "33\n",
      "1024 768\n",
      "34\n",
      "640 476\n",
      "35\n",
      "1024 768\n",
      "36\n",
      "960 720\n",
      "37\n",
      "640 476\n",
      "38\n",
      "960 720\n",
      "39\n",
      "960 720\n",
      "40\n",
      "1024 768\n",
      "41\n",
      "800 564\n",
      "42\n",
      "1024 768\n",
      "43\n",
      "1050 788\n",
      "44\n",
      "1024 768\n",
      "45\n",
      "640 476\n",
      "46\n",
      "960 720\n",
      "47\n",
      "640 476\n",
      "48\n",
      "1024 768\n",
      "49\n",
      "960 720\n",
      "50\n",
      "975 735\n",
      "51\n",
      "1024 768\n",
      "52\n",
      "960 720\n",
      "53\n",
      "1024 768\n",
      "54\n",
      "1050 788\n",
      "55\n",
      "1024 768\n",
      "56\n",
      "640 476\n",
      "57\n",
      "640 476\n",
      "58\n",
      "1024 768\n",
      "59\n",
      "1024 768\n",
      "60\n",
      "1024 768\n",
      "61\n",
      "640 476\n",
      "62\n",
      "640 476\n",
      "63\n",
      "800 600\n",
      "64\n",
      "800 564\n",
      "65\n",
      "1024 768\n",
      "66\n",
      "960 720\n",
      "67\n",
      "1024 768\n",
      "68\n",
      "1024 768\n",
      "69\n",
      "960 720\n",
      "70\n",
      "1024 768\n",
      "71\n",
      "975 735\n",
      "72\n",
      "1024 768\n",
      "73\n",
      "800 600\n",
      "74\n",
      "1024 768\n",
      "75\n",
      "800 564\n",
      "76\n",
      "640 476\n",
      "77\n",
      "1024 768\n",
      "78\n",
      "975 735\n",
      "79\n",
      "640 476\n",
      "80\n",
      "975 735\n",
      "81\n",
      "640 476\n",
      "82\n",
      "1024 768\n",
      "83\n",
      "1024 768\n",
      "84\n",
      "1164 873\n",
      "85\n",
      "800 564\n",
      "86\n",
      "800 564\n",
      "87\n",
      "960 720\n",
      "88\n",
      "1050 788\n",
      "89\n",
      "1050 788\n",
      "90\n",
      "1024 768\n",
      "91\n",
      "1024 768\n",
      "92\n",
      "960 720\n",
      "93\n",
      "800 564\n",
      "94\n",
      "960 720\n",
      "95\n",
      "640 476\n",
      "96\n",
      "1024 768\n",
      "97\n",
      "960 720\n",
      "98\n",
      "800 564\n",
      "99\n",
      "800 564\n",
      "100\n",
      "1024 768\n",
      "101\n",
      "1024 768\n",
      "102\n",
      "1024 768\n",
      "103\n",
      "960 720\n",
      "104\n",
      "640 476\n",
      "105\n",
      "640 476\n",
      "106\n",
      "1024 768\n",
      "107\n",
      "1024 768\n",
      "108\n",
      "640 476\n",
      "109\n",
      "800 564\n",
      "110\n",
      "975 735\n",
      "111\n",
      "640 476\n",
      "112\n",
      "640 476\n",
      "113\n",
      "800 600\n",
      "114\n",
      "800 564\n",
      "115\n",
      "960 720\n",
      "116\n",
      "800 564\n",
      "117\n",
      "800 564\n",
      "118\n",
      "1024 768\n",
      "119\n",
      "1024 768\n",
      "120\n",
      "1024 768\n",
      "121\n",
      "1024 768\n",
      "122\n",
      "800 600\n",
      "123\n",
      "1024 768\n",
      "124\n",
      "800 564\n",
      "125\n",
      "640 476\n",
      "126\n",
      "1024 768\n",
      "127\n",
      "1024 768\n",
      "128\n",
      "1024 768\n",
      "129\n",
      "975 735\n",
      "130\n",
      "1024 768\n",
      "131\n",
      "640 476\n",
      "132\n",
      "1552 970\n",
      "133\n",
      "1024 768\n",
      "134\n",
      "1024 768\n",
      "135\n",
      "975 735\n",
      "136\n",
      "1024 768\n",
      "137\n",
      "1024 768\n",
      "138\n",
      "800 564\n",
      "139\n",
      "1024 768\n",
      "140\n",
      "1024 768\n",
      "141\n",
      "800 564\n",
      "142\n",
      "1024 768\n",
      "143\n",
      "1050 788\n",
      "144\n",
      "1050 788\n",
      "145\n",
      "1024 768\n",
      "146\n",
      "1024 768\n",
      "147\n",
      "640 476\n",
      "148\n",
      "1024 768\n",
      "149\n",
      "800 564\n",
      "150\n",
      "960 720\n",
      "151\n",
      "800 564\n",
      "152\n",
      "1024 768\n",
      "153\n",
      "1024 768\n",
      "154\n",
      "1050 788\n",
      "155\n",
      "1050 788\n",
      "156\n",
      "1024 768\n",
      "157\n",
      "1024 768\n",
      "158\n",
      "960 720\n",
      "159\n",
      "800 564\n",
      "160\n",
      "800 564\n",
      "161\n",
      "1024 768\n",
      "162\n",
      "960 720\n",
      "163\n",
      "1024 768\n",
      "164\n",
      "1024 768\n",
      "165\n",
      "640 476\n",
      "166\n",
      "1024 768\n",
      "167\n",
      "800 564\n",
      "168\n",
      "1024 768\n",
      "169\n",
      "1024 768\n",
      "170\n",
      "1024 768\n",
      "171\n",
      "1024 768\n",
      "172\n",
      "640 476\n",
      "173\n",
      "1024 768\n",
      "174\n",
      "960 720\n",
      "175\n",
      "800 564\n",
      "176\n",
      "1024 768\n",
      "177\n",
      "800 564\n",
      "178\n",
      "1024 768\n",
      "179\n",
      "1024 768\n",
      "180\n",
      "1024 768\n",
      "181\n",
      "960 720\n",
      "182\n",
      "1024 768\n",
      "183\n",
      "640 476\n",
      "184\n",
      "1024 768\n",
      "185\n",
      "1024 768\n",
      "186\n",
      "1024 768\n",
      "187\n",
      "960 720\n",
      "188\n",
      "800 564\n",
      "189\n",
      "640 476\n",
      "190\n",
      "1050 788\n",
      "191\n",
      "1050 788\n",
      "192\n",
      "1024 768\n",
      "193\n",
      "1024 768\n",
      "194\n",
      "640 476\n",
      "195\n",
      "1024 768\n",
      "196\n",
      "1024 768\n",
      "197\n",
      "640 476\n",
      "198\n",
      "1024 768\n",
      "199\n",
      "1024 768\n",
      "200\n",
      "640 476\n",
      "201\n",
      "1024 768\n",
      "202\n",
      "1024 768\n",
      "203\n",
      "1024 768\n",
      "204\n",
      "960 720\n",
      "205\n",
      "800 564\n",
      "206\n",
      "1024 768\n",
      "207\n",
      "800 564\n",
      "208\n",
      "1024 768\n",
      "209\n",
      "1024 768\n"
     ]
    }
   ],
   "source": [
    "from PIL import Image\n",
    "\n",
    "w = []\n",
    "h = []\n",
    "for i in range(len(images)):\n",
    "    im = Image.open(images[i])\n",
    "    width, height = im.size\n",
    "    w.append(width)\n",
    "    h.append(height)\n",
    "#     if width == width and height == height:\n",
    "#         print(width, height)\n",
    "    print(i)\n",
    "    print(width, height)\n",
    "# print(sorted(h))\n",
    "# print(min(w),min(h))"
   ]
  },
  {
   "cell_type": "markdown",
   "metadata": {},
   "source": [
    "### Augmentations"
   ]
  },
  {
   "cell_type": "markdown",
   "metadata": {},
   "source": [
    "Data augmentation is a powerful technique to increase the amount of your data and prevent model overfitting.  \n",
    "If you not familiar with such trick read some of these articles:\n",
    " - [The Effectiveness of Data Augmentation in Image Classification using Deep\n",
    "Learning](http://cs231n.stanford.edu/reports/2017/pdfs/300.pdf)\n",
    " - [Data Augmentation | How to use Deep Learning when you have Limited Data](https://medium.com/nanonets/how-to-use-deep-learning-when-you-have-limited-data-part-2-data-augmentation-c26971dc8ced)\n",
    " - [Data Augmentation Experimentation](https://towardsdatascience.com/data-augmentation-experimentation-3e274504f04b)\n",
    "\n",
    "Since our dataset is very small we will apply a large number of different augmentations:\n",
    " - horizontal flip\n",
    " - affine transforms\n",
    " - perspective transforms\n",
    " - brightness/contrast/colors manipulations\n",
    " - image bluring and sharpening\n",
    " - gaussian noise\n",
    " - random crops\n",
    "\n",
    "All this transforms can be easily applied with [**Albumentations**](https://github.com/albu/albumentations/) - fast augmentation library.\n",
    "For detailed explanation of image transformations you can look at [kaggle salt segmentation exmaple](https://github.com/albu/albumentations/blob/master/notebooks/example_kaggle_salt.ipynb) provided by [**Albumentations**](https://github.com/albu/albumentations/) authors."
   ]
  },
  {
   "cell_type": "code",
   "execution_count": 22,
   "metadata": {},
   "outputs": [],
   "source": [
    "# class AugDataset(BaseDataset):\n",
    "    \n",
    "#     CLASSES = ['bg','tumor']\n",
    "    \n",
    "#     def __init__(\n",
    "#         self, \n",
    "#         images_dir, \n",
    "#         masks_dir, \n",
    "#         transform,\n",
    "#         classes=None, \n",
    "#         augmentation=None, \n",
    "#         preprocessing=None\n",
    "        \n",
    "#     ):\n",
    "#         self.ids = os.listdir(images_dir)\n",
    "#         self.images_fps = [os.path.join(images_dir, image_id) for image_id in self.ids]\n",
    "#         self.masks_fps = [os.path.join(masks_dir, image_id) for image_id in self.ids]\n",
    "#         self.transform = transform\n",
    "        \n",
    "#         # convert str names to class values on masks\n",
    "#         self.class_values = [self.CLASSES.index(cls.lower()) for cls in classes]\n",
    "#         print('class_values:',self.class_values)\n",
    "        \n",
    "#         self.augmentation = augmentation\n",
    "#         self.preprocessing = preprocessing\n",
    "    \n",
    "#     def __getitem__(self, i):\n",
    "        \n",
    "#         # read data\n",
    "#         image = cv2.imread(self.images_fps[i])\n",
    "#         image = cv2.cvtColor(image, cv2.COLOR_BGR2RGB)\n",
    "#         # read 灰階mask\n",
    "#         mask = cv2.imread(self.masks_fps[i],0)\n",
    "#         # mask = cv2.cvtColor(mask, cv2.COLOR_BGR2GRAY)\n",
    "#         mask = mask//255\n",
    "        \n",
    "#         # extract certain classes from mask (e.g. tumor)\n",
    "#         masks = [(mask == v) for v in self.class_values]\n",
    "#         # print('masks(certain classes):',masks[0])\n",
    "#         mask = np.stack(masks, axis=-1).astype('float32')\n",
    "        \n",
    "#         # print('mask = masks (masks轉成數值並不定column維度):\\n',mask[0])\n",
    "#         # print(mask.shape)\n",
    "        \n",
    "#         # apply augmentations\n",
    "#         if self.augmentation:\n",
    "#             sample = self.augmentation(image=image, mask=mask)\n",
    "#             image, mask = sample['image'], sample['mask']\n",
    "        \n",
    "#         # apply preprocessing\n",
    "#         if self.preprocessing:\n",
    "#             sample = self.preprocessing(image=image, mask=mask)\n",
    "#             image, mask = sample['image'], sample['mask']\n",
    "            \n",
    "#         if self.transform is not None:\n",
    "#             image = self.transform(image)\n",
    "#             mask = self.transform(mask)\n",
    "\n",
    "#         return image, mask\n",
    "        \n",
    "#     def __len__(self):\n",
    "#         return len(self.ids)"
   ]
  },
  {
   "cell_type": "code",
   "execution_count": 23,
   "metadata": {},
   "outputs": [],
   "source": [
    "import albumentations as albu"
   ]
  },
  {
   "cell_type": "code",
   "execution_count": 24,
   "metadata": {},
   "outputs": [],
   "source": [
    "def get_training_augmentation():\n",
    "\n",
    "    train_transform = [\n",
    "        albu.HorizontalFlip(p=0.5),\n",
    "        # 2023.2.19 不要 scale，scale_limit 由 0.5 改為 0\n",
    "        albu.ShiftScaleRotate(scale_limit=0, rotate_limit=0, shift_limit=0.1, p=1, border_mode=0),\n",
    "\n",
    "        albu.PadIfNeeded(min_height=704, min_width=704, always_apply=True, border_mode=0),# padding 的概念\n",
    "        albu.RandomCrop(height=704, width=704, always_apply=True),\n",
    "\n",
    "        albu.IAAAdditiveGaussianNoise(p=0.2),\n",
    "        albu.IAAPerspective(p=0.5),# 將圖片投影到新的平面\n",
    "\n",
    "        albu.OneOf(\n",
    "            [\n",
    "                albu.CLAHE(p=1),\n",
    "                albu.RandomBrightness(p=1),\n",
    "                albu.RandomGamma(p=1),\n",
    "            ],\n",
    "            p=0.9,\n",
    "        ),\n",
    "\n",
    "        albu.OneOf(\n",
    "            [\n",
    "                albu.IAASharpen(p=1),\n",
    "                albu.Blur(blur_limit=3, p=1),\n",
    "                albu.MotionBlur(blur_limit=3, p=1),\n",
    "            ],\n",
    "            p=0.9,\n",
    "        ),\n",
    "\n",
    "        albu.OneOf(\n",
    "            [\n",
    "                albu.RandomContrast(p=1),\n",
    "                albu.HueSaturationValue(p=1),\n",
    "            ],\n",
    "            p=0.9,\n",
    "        ),\n",
    "    ]\n",
    "    return albu.Compose(train_transform)\n",
    "\n",
    "\"\"\"Add paddings to make image shape divisible by 32\"\"\"\n",
    "def get_validation_augmentation():\n",
    "    test_transform = [\n",
    "#         albu.PadIfNeeded(704, 704)\n",
    "        # 2023.2.18 added\n",
    "        albu.PadIfNeeded(min_height=704, min_width=704, always_apply=True, border_mode=0),\n",
    "        albu.RandomCrop(height=704, width=704, always_apply=True),\n",
    "    ]\n",
    "    return albu.Compose(test_transform)\n",
    "\n",
    "\n",
    "def to_tensor(x, **kwargs):\n",
    "    return x.transpose(2, 0, 1).astype('float32')\n",
    "\n",
    "\n",
    "def get_preprocessing(preprocessing_fn):\n",
    "    \"\"\"Construct preprocessing transform\n",
    "    \n",
    "    Args:\n",
    "        preprocessing_fn (callbale): data normalization function \n",
    "            (can be specific for each pretrained neural network)\n",
    "    Return:\n",
    "        transform: albumentations.Compose\n",
    "    \n",
    "    \"\"\"\n",
    "    \n",
    "    _transform = [\n",
    "        albu.Lambda(image=preprocessing_fn),\n",
    "        albu.Lambda(image=to_tensor, mask=to_tensor),\n",
    "    ]\n",
    "    return albu.Compose(_transform)"
   ]
  },
  {
   "cell_type": "code",
   "execution_count": 25,
   "metadata": {
    "scrolled": true
   },
   "outputs": [
    {
     "name": "stdout",
     "output_type": "stream",
     "text": [
      "class_values: [1]\n",
      "0\n"
     ]
    },
    {
     "data": {
      "image/png": "[encoded data removed]",
      "text/plain": [
       "<Figure size 1152x360 with 2 Axes>"
      ]
     },
     "metadata": {},
     "output_type": "display_data"
    },
    {
     "name": "stdout",
     "output_type": "stream",
     "text": [
      "1\n"
     ]
    },
    {
     "data": {
      "image/png": "[encoded data removed]",
      "text/plain": [
       "<Figure size 1152x360 with 2 Axes>"
      ]
     },
     "metadata": {},
     "output_type": "display_data"
    },
    {
     "name": "stdout",
     "output_type": "stream",
     "text": [
      "2\n"
     ]
    },
    {
     "data": {
      "image/png": "[encoded data removed]",
      "text/plain": [
       "<Figure size 1152x360 with 2 Axes>"
      ]
     },
     "metadata": {},
     "output_type": "display_data"
    },
    {
     "name": "stdout",
     "output_type": "stream",
     "text": [
      "(704, 704, 1)\n",
      "(704, 704)\n"
     ]
    }
   ],
   "source": [
    "#### Visualize resulted augmented images and masks\n",
    "\n",
    "augmented_dataset = Dataset(\n",
    "    x_train_dir, \n",
    "    y_train_dir, \n",
    "    augmentation=get_training_augmentation(), \n",
    "    classes=['kidney'],\n",
    ")\n",
    "\n",
    "# same image with different random transforms\n",
    "for i in range(3):\n",
    "    image, mask = augmented_dataset[4]\n",
    "    print(i)\n",
    "    visualize(image=image, mask=mask.squeeze())#-1\n",
    "print(mask.shape)\n",
    "print(mask.squeeze().shape)"
   ]
  },
  {
   "cell_type": "markdown",
   "metadata": {},
   "source": [
    "## Create model and train"
   ]
  },
  {
   "cell_type": "code",
   "execution_count": 26,
   "metadata": {},
   "outputs": [
    {
     "name": "stdout",
     "output_type": "stream",
     "text": [
      "/tf/notebook/0.research/kidney\n"
     ]
    }
   ],
   "source": [
    "!pwd\n",
    "# %cd ./Segmentation/"
   ]
  },
  {
   "cell_type": "code",
   "execution_count": 27,
   "metadata": {},
   "outputs": [],
   "source": [
    "# !pip install timm\n",
    "# !pip install pretrainedmodels\n",
    "# !pip install efficientnet_pytorch"
   ]
  },
  {
   "cell_type": "code",
   "execution_count": 28,
   "metadata": {},
   "outputs": [],
   "source": [
    "# !pip install -U git+https://github.com/qubvel/segmentation_models.pytorch"
   ]
  },
  {
   "cell_type": "code",
   "execution_count": 29,
   "metadata": {},
   "outputs": [
    {
     "name": "stdout",
     "output_type": "stream",
     "text": [
      "/tf/notebook/0.research/kidney/2_segmentation_models\n"
     ]
    }
   ],
   "source": [
    "%cd ./2_segmentation_models/"
   ]
  },
  {
   "cell_type": "code",
   "execution_count": 30,
   "metadata": {},
   "outputs": [],
   "source": [
    "import torch\n",
    "import numpy as np\n",
    "import segmentation_models_pytorch as smp"
   ]
  },
  {
   "cell_type": "code",
   "execution_count": 31,
   "metadata": {},
   "outputs": [
    {
     "name": "stdout",
     "output_type": "stream",
     "text": [
      "/tf/notebook/0.research/kidney\n"
     ]
    }
   ],
   "source": [
    "%cd ../"
   ]
  },
  {
   "cell_type": "markdown",
   "metadata": {},
   "source": [
    "### 設定encoder, weight, class, activation, device"
   ]
  },
  {
   "cell_type": "code",
   "execution_count": 32,
   "metadata": {},
   "outputs": [],
   "source": [
    "ENCODER = 'resnet101'\n",
    "ENCODER_WEIGHTS = 'imagenet'\n",
    "CLASSES = ['kidney']\n",
    "ACTIVATION = 'sigmoid' # could be None for logits or 'softmax2d' for multiclass segmentation\n",
    "# DEVICE = 'cuda'\n",
    "# 2023.3.1 added for hausdorff loss\n",
    "DEVICE = torch.device(\"cuda\" if torch.cuda.is_available() else \"cpu\") \n",
    "\n",
    "# create segmentation model with pretrained encoder\n",
    "# DeepLabV3\n",
    "# Unet\n",
    "model = smp.DeepLabV3(\n",
    "    encoder_name=ENCODER, \n",
    "    encoder_weights=ENCODER_WEIGHTS, \n",
    "    classes=len(CLASSES), \n",
    "    activation=ACTIVATION,\n",
    "    # encoder_depth=3,\n",
    "    # decoder_channels = (256, 128, 64)\n",
    ")\n",
    "\n",
    "# 2023.02.18 added for 2 gpu\n",
    "model = torch.nn.DataParallel(model, device_ids=[0,1])\n",
    "\n",
    "# 2023.3.1 added for torch.device(\"cuda\" if torch.cuda.is_available() else \"cpu\") \n",
    "model = model.to(DEVICE)\n",
    "\n",
    "# model = smp.Unet('resnet34', encoder_depth=4)\n",
    "preprocessing_fn = smp.encoders.get_preprocessing_fn(ENCODER, ENCODER_WEIGHTS)"
   ]
  },
  {
   "cell_type": "code",
   "execution_count": 33,
   "metadata": {},
   "outputs": [],
   "source": [
    "# # Check if double GPU is available\n",
    "# if torch.cuda.device_count() > 1:\n",
    "#     print(\"Using\", torch.cuda.device_count(), \"GPUs.\")\n",
    "#     model = torch.nn.DataParallel(model)\n",
    "# else:\n",
    "#     print(\"Using single GPU or CPU.\")\n",
    "#     model = model\n",
    "# # Move the model to the selected device\n",
    "# device = torch.device(\"cuda:0\" if torch.cuda.is_available() else \"cpu\")\n",
    "# model.to(device)"
   ]
  },
  {
   "cell_type": "code",
   "execution_count": 34,
   "metadata": {
    "scrolled": true
   },
   "outputs": [],
   "source": [
    "# # Use all available GPUs\n",
    "# if torch.cuda.device_count() > 1:\n",
    "#     print(\"Using\", torch.cuda.device_count(), \"GPUs.\")\n",
    "#     model = torch.nn.DataParallel(model)\n",
    "# else:\n",
    "#     print(\"Using single GPU.\")\n",
    "#     model = model\n",
    "\n",
    "# # Use both GPUs if available\n",
    "# if torch.cuda.device_count() >= 2:\n",
    "#     device = torch.device(\"cuda:0,1\")\n",
    "#     print(\"Using\", torch.cuda.device_count(), \"GPUs.\")\n",
    "# else:\n",
    "#     device = torch.device(\"cpu\")\n",
    "#     print(\"Using CPU.\")"
   ]
  },
  {
   "cell_type": "code",
   "execution_count": 35,
   "metadata": {},
   "outputs": [],
   "source": [
    "# if torch.cuda.device_count() > 1:\n",
    "#     print(\"Let's use\", torch.cuda.device_count(), \"GPUs!\")\n",
    "#     # dim = 0 [30, xxx] -> [10, ...], [10, ...], [10, ...] on 3 GPUs\n",
    "#     model = torch.nn.DataParallel(model)\n",
    "\n",
    "# model = model.to(DEVICE)"
   ]
  },
  {
   "cell_type": "markdown",
   "metadata": {},
   "source": [
    "### transform (resize, normalize) data"
   ]
  },
  {
   "cell_type": "code",
   "execution_count": 36,
   "metadata": {},
   "outputs": [],
   "source": [
    "# transforms = transforms.Compose([\n",
    "#     transforms.Resize((224, 224)),\n",
    "#     transforms.ToTensor(),\n",
    "#     transforms.Normalize(mean=[0.485, 0.456, 0.406], std=[0.229, 0.224, 0.225])\n",
    "# ])"
   ]
  },
  {
   "cell_type": "code",
   "execution_count": 37,
   "metadata": {
    "scrolled": true
   },
   "outputs": [
    {
     "name": "stdout",
     "output_type": "stream",
     "text": [
      "class_values: [1]\n",
      "class_values: [1]\n"
     ]
    }
   ],
   "source": [
    "train_dataset = Dataset(\n",
    "    x_train_dir, \n",
    "    y_train_dir, \n",
    "    augmentation=get_training_augmentation(), \n",
    "    preprocessing=get_preprocessing(preprocessing_fn),\n",
    "    classes=CLASSES,\n",
    ")\n",
    "\n",
    "valid_dataset = Dataset(\n",
    "    x_valid_dir, \n",
    "    y_valid_dir, \n",
    "    augmentation=get_validation_augmentation(), \n",
    "    preprocessing=get_preprocessing(preprocessing_fn),\n",
    "    classes=CLASSES,\n",
    ")\n",
    "\n",
    "# train_loader = DataLoader(train_dataset, batch_size=5, shuffle=True, num_workers=0)\n",
    "# valid_loader = DataLoader(valid_dataset, batch_size=5, shuffle=False, num_workers=0)"
   ]
  },
  {
   "cell_type": "code",
   "execution_count": 38,
   "metadata": {},
   "outputs": [
    {
     "name": "stdout",
     "output_type": "stream",
     "text": [
      "/tf/notebook/0.research/kidney\n"
     ]
    }
   ],
   "source": [
    "!pwd"
   ]
  },
  {
   "cell_type": "markdown",
   "metadata": {},
   "source": [
    "### 設定loss, optimizer"
   ]
  },
  {
   "cell_type": "code",
   "execution_count": 39,
   "metadata": {},
   "outputs": [],
   "source": [
    "from segmentation_models_pytorch import utils"
   ]
  },
  {
   "cell_type": "code",
   "execution_count": 40,
   "metadata": {},
   "outputs": [
    {
     "data": {
      "text/plain": [
       "'/tf/notebook/0.research/kidney'"
      ]
     },
     "execution_count": 40,
     "metadata": {},
     "output_type": "execute_result"
    }
   ],
   "source": [
    "pwd"
   ]
  },
  {
   "cell_type": "code",
   "execution_count": 41,
   "metadata": {},
   "outputs": [],
   "source": [
    "# Dice/F1 score - https://en.wikipedia.org/wiki/S%C3%B8rensen%E2%80%93Dice_coefficient\n",
    "# IoU/Jaccard score - https://en.wikipedia.org/wiki/Jaccard_index\n",
    "\n",
    "# JaccardLoss\n",
    "# DiceLoss\n",
    "train_loss = valid_loss = smp.utils.losses.DiceLoss()\n",
    "\n",
    "# TverskyLoss 2023.2.27 added\n",
    "# train_loss = valid_loss = smp.losses.TverskyLoss('binary')\n",
    "# train_loss.__name__ = 'tversky_loss'\n",
    "# valid_loss.__name__ = 'tversky_loss'\n",
    "\n",
    "# Hausdorff loss 2023.3.1 added\n",
    "# %cd ./2_segmentation_models/segmentation_models_pytorch/losses/\n",
    "# from hausdorff_loss import HausdorffDTLoss, HausdorffERLoss\n",
    "# %cd ../../../\n",
    "# train_loss = valid_loss = HausdorffDTLoss()\n",
    "# train_loss.__name__ = 'hausdorffdt_loss'\n",
    "# valid_loss.__name__ = 'hausdorffdt_loss'\n",
    "\n",
    "metrics = [\n",
    "    smp.utils.metrics.IoU(threshold=0.5),\n",
    "]\n",
    "\n",
    "optimizer = torch.optim.Adam([ \n",
    "    dict(params=model.parameters(), lr=0.0001),\n",
    "])"
   ]
  },
  {
   "cell_type": "markdown",
   "metadata": {},
   "source": [
    "### epoch runners "
   ]
  },
  {
   "cell_type": "code",
   "execution_count": 42,
   "metadata": {},
   "outputs": [],
   "source": [
    "# create epoch runners \n",
    "# it is a simple loop of iterating over dataloader`s samples\n",
    "# train_epoch = smp.utils.train.TrainEpoch(\n",
    "#     model, \n",
    "#     loss=loss, \n",
    "#     metrics=metrics, \n",
    "#     optimizer=optimizer,\n",
    "#     device=DEVICE,\n",
    "#     verbose=True,\n",
    "# )\n",
    "\n",
    "# valid_epoch = smp.utils.train.ValidEpoch(\n",
    "#     model, \n",
    "#     loss=loss, \n",
    "#     metrics=metrics, \n",
    "#     device=DEVICE,\n",
    "#     verbose=True,\n",
    "# )\n",
    "\n",
    "# 2023.2.24 added for k-fold\n",
    "train_k_fold_epoch = smp.utils.train.Train_kFold_Epoch(\n",
    "    model, \n",
    "    train_loss=train_loss,\n",
    "    valid_loss=valid_loss,\n",
    "    metrics=metrics,\n",
    "    optimizer=optimizer,\n",
    "    device=DEVICE,\n",
    "    verbose=True,\n",
    ")"
   ]
  },
  {
   "cell_type": "markdown",
   "metadata": {},
   "source": [
    "### train!!"
   ]
  },
  {
   "cell_type": "code",
   "execution_count": 43,
   "metadata": {},
   "outputs": [],
   "source": [
    "from pathlib import Path\n",
    "\n",
    "# myfile = Path('./weight/best_model_deeplabv3_0513.pth')\n",
    "# myfile.touch(exist_ok=False)\n",
    "# f = open(myfile)"
   ]
  },
  {
   "cell_type": "code",
   "execution_count": 44,
   "metadata": {},
   "outputs": [],
   "source": [
    "# Early stopping\n",
    "patience = 5 #  Loss 連續下降 5 次就要停止訓練\n",
    "trigger_times = 0"
   ]
  },
  {
   "cell_type": "code",
   "execution_count": 45,
   "metadata": {},
   "outputs": [
    {
     "name": "stdout",
     "output_type": "stream",
     "text": [
      "255\n"
     ]
    }
   ],
   "source": [
    "# 2023.2.24 added\n",
    "# k-fold method\n",
    "from torch.utils.data import ConcatDataset\n",
    "\n",
    "dataset = ConcatDataset([train_dataset, valid_dataset])\n",
    "print(len(dataset))"
   ]
  },
  {
   "cell_type": "code",
   "execution_count": 46,
   "metadata": {
    "scrolled": true
   },
   "outputs": [],
   "source": [
    "# # from tqdm.notebook import tqdm\n",
    "\n",
    "# max_score = 0\n",
    "# train_logs_list, valid_logs_list = [], []\n",
    "\n",
    "# # for i in tqdm(range(0, 40)):\n",
    "# for i in range(0, 170):\n",
    "#     print('\\nEpoch : {}'.format(i+1))\n",
    "#     train_logs = train_epoch.run(train_loader)\n",
    "#     valid_logs = valid_epoch.run(valid_loader)\n",
    "#     train_logs_list.append(train_logs)\n",
    "#     valid_logs_list.append(valid_logs)\n",
    "    \n",
    "#     # 2023.2.19 added early stopping\n",
    "#     # 當前 loss > 前一次 loss 或 當前 loss < 前一次 loss (差距 5e-3)\n",
    "# #     if i > 0 :\n",
    "# #         if valid_logs['dice_loss'] > valid_logs_list[i-1]['dice_loss'] or (valid_logs_list[i-1]['dice_loss'] - valid_logs['dice_loss']) < 5e-3 :\n",
    "# #             trigger_times += 1\n",
    "# #             print('trigger times:', trigger_times)\n",
    "# #             if trigger_times >= patience:\n",
    "# #                 print('Early stopping!')\n",
    "# #                 break\n",
    "# #         else:\n",
    "# #             print('trigger times: 0')\n",
    "# #             trigger_times = 0\n",
    "    \n",
    "#     # do something (save model, change lr, etc.)\n",
    "#     if max_score < valid_logs['iou_score']:\n",
    "#         max_score = valid_logs['iou_score']\n",
    "#         torch.save(model, './1_weight/best_model_deeplabv3_dice_03.pth')\n",
    "#         print('Model saved!')\n",
    "        \n",
    "# #     if i == 25:\n",
    "# #         optimizer.param_groups[0]['lr'] = 1e-5\n",
    "# #         print('Decrease decoder learning rate to 1e-5!')"
   ]
  },
  {
   "cell_type": "code",
   "execution_count": 47,
   "metadata": {
    "scrolled": true
   },
   "outputs": [
    {
     "name": "stdout",
     "output_type": "stream",
     "text": [
      "-------Start training-------\n",
      "len of dataset : 255\n",
      "len of train_idx, /ntrain_idx : (170, 85)\n",
      "\n",
      "Fold : 1\n",
      "\n",
      "Epoch : 1\n",
      "train:   0%|          | 0/17 [00:06<?, ?it/s]\n"
     ]
    },
    {
     "ename": "RuntimeError",
     "evalue": "Caught RuntimeError in replica 0 on device 0.\nOriginal Traceback (most recent call last):\n  File \"/usr/local/lib/python3.6/dist-packages/torch/nn/parallel/parallel_apply.py\", line 61, in _worker\n    output = module(*input, **kwargs)\n  File \"/usr/local/lib/python3.6/dist-packages/torch/nn/modules/module.py\", line 889, in _call_impl\n    result = self.forward(*input, **kwargs)\n  File \"/tf/notebook/0.research/kidney/2_segmentation_models/segmentation_models_pytorch/base/model.py\", line 29, in forward\n    features = self.encoder(x)\n  File \"/usr/local/lib/python3.6/dist-packages/torch/nn/modules/module.py\", line 889, in _call_impl\n    result = self.forward(*input, **kwargs)\n  File \"/tf/notebook/0.research/kidney/2_segmentation_models/segmentation_models_pytorch/encoders/resnet.py\", line 62, in forward\n    x = stages[i](x)\n  File \"/usr/local/lib/python3.6/dist-packages/torch/nn/modules/module.py\", line 889, in _call_impl\n    result = self.forward(*input, **kwargs)\n  File \"/usr/local/lib/python3.6/dist-packages/torch/nn/modules/container.py\", line 119, in forward\n    input = module(input)\n  File \"/usr/local/lib/python3.6/dist-packages/torch/nn/modules/module.py\", line 889, in _call_impl\n    result = self.forward(*input, **kwargs)\n  File \"/usr/local/lib/python3.6/dist-packages/torchvision/models/resnet.py\", line 124, in forward\n    out = self.conv1(x)\n  File \"/usr/local/lib/python3.6/dist-packages/torch/nn/modules/module.py\", line 889, in _call_impl\n    result = self.forward(*input, **kwargs)\n  File \"/usr/local/lib/python3.6/dist-packages/torch/nn/modules/conv.py\", line 399, in forward\n    return self._conv_forward(input, self.weight, self.bias)\n  File \"/usr/local/lib/python3.6/dist-packages/torch/nn/modules/conv.py\", line 396, in _conv_forward\n    self.padding, self.dilation, self.groups)\nRuntimeError: CUDA out of memory. Tried to allocate 38.00 MiB (GPU 0; 10.92 GiB total capacity; 10.09 GiB already allocated; 31.50 MiB free; 10.13 GiB reserved in total by PyTorch)\n",
     "output_type": "error",
     "traceback": [
      "\u001b[0;31m---------------------------------------------------------------------------\u001b[0m",
      "\u001b[0;31mRuntimeError\u001b[0m                              Traceback (most recent call last)",
      "\u001b[0;32m<ipython-input-47-fa7597d20bdd>\u001b[0m in \u001b[0;36m<module>\u001b[0;34m\u001b[0m\n\u001b[1;32m      2\u001b[0m \u001b[0;31m# from tqdm.notebook import tqdm\u001b[0m\u001b[0;34m\u001b[0m\u001b[0;34m\u001b[0m\u001b[0;34m\u001b[0m\u001b[0m\n\u001b[1;32m      3\u001b[0m \u001b[0mpath\u001b[0m \u001b[0;34m=\u001b[0m \u001b[0;34mf'./1_weight/best_model_deeplabv3_DiceLoss_0302_'\u001b[0m\u001b[0;34m\u001b[0m\u001b[0;34m\u001b[0m\u001b[0m\n\u001b[0;32m----> 4\u001b[0;31m \u001b[0mtrain_logs_list\u001b[0m\u001b[0;34m,\u001b[0m \u001b[0mvalid_logs_list\u001b[0m \u001b[0;34m=\u001b[0m \u001b[0mtrain_k_fold_epoch\u001b[0m\u001b[0;34m.\u001b[0m\u001b[0mrun\u001b[0m\u001b[0;34m(\u001b[0m\u001b[0mdataset\u001b[0m\u001b[0;34m,\u001b[0m \u001b[0mk\u001b[0m\u001b[0;34m=\u001b[0m\u001b[0;36m3\u001b[0m\u001b[0;34m,\u001b[0m \u001b[0mtrain_bz\u001b[0m\u001b[0;34m=\u001b[0m\u001b[0;36m10\u001b[0m\u001b[0;34m,\u001b[0m \u001b[0mvalid_bz\u001b[0m\u001b[0;34m=\u001b[0m\u001b[0;36m5\u001b[0m\u001b[0;34m,\u001b[0m \u001b[0mepochs\u001b[0m\u001b[0;34m=\u001b[0m\u001b[0;36m170\u001b[0m\u001b[0;34m,\u001b[0m \u001b[0mmodel\u001b[0m\u001b[0;34m=\u001b[0m\u001b[0mmodel\u001b[0m\u001b[0;34m,\u001b[0m \u001b[0mpath\u001b[0m\u001b[0;34m=\u001b[0m\u001b[0mpath\u001b[0m\u001b[0;34m)\u001b[0m\u001b[0;34m\u001b[0m\u001b[0;34m\u001b[0m\u001b[0m\n\u001b[0m",
      "\u001b[0;32m/tf/notebook/0.research/kidney/2_segmentation_models/segmentation_models_pytorch/utils/train.py\u001b[0m in \u001b[0;36mrun\u001b[0;34m(self, dataset, k, train_bz, valid_bz, epochs, model, path)\u001b[0m\n\u001b[1;32m    123\u001b[0m                         \u001b[0;32mfor\u001b[0m \u001b[0mx\u001b[0m\u001b[0;34m,\u001b[0m \u001b[0my\u001b[0m \u001b[0;32min\u001b[0m \u001b[0mtrain_iterator\u001b[0m\u001b[0;34m:\u001b[0m\u001b[0;34m\u001b[0m\u001b[0;34m\u001b[0m\u001b[0m\n\u001b[1;32m    124\u001b[0m                             \u001b[0mx\u001b[0m\u001b[0;34m,\u001b[0m \u001b[0my\u001b[0m \u001b[0;34m=\u001b[0m \u001b[0mx\u001b[0m\u001b[0;34m.\u001b[0m\u001b[0mto\u001b[0m\u001b[0;34m(\u001b[0m\u001b[0mself\u001b[0m\u001b[0;34m.\u001b[0m\u001b[0mdevice\u001b[0m\u001b[0;34m)\u001b[0m\u001b[0;34m,\u001b[0m \u001b[0my\u001b[0m\u001b[0;34m.\u001b[0m\u001b[0mto\u001b[0m\u001b[0;34m(\u001b[0m\u001b[0mself\u001b[0m\u001b[0;34m.\u001b[0m\u001b[0mdevice\u001b[0m\u001b[0;34m)\u001b[0m\u001b[0;34m\u001b[0m\u001b[0;34m\u001b[0m\u001b[0m\n\u001b[0;32m--> 125\u001b[0;31m                             \u001b[0mtrain_loss\u001b[0m\u001b[0;34m,\u001b[0m \u001b[0mtrain_pred\u001b[0m \u001b[0;34m=\u001b[0m \u001b[0mself\u001b[0m\u001b[0;34m.\u001b[0m\u001b[0mtrain_batch_update\u001b[0m\u001b[0;34m(\u001b[0m\u001b[0mx\u001b[0m\u001b[0;34m,\u001b[0m \u001b[0my\u001b[0m\u001b[0;34m)\u001b[0m\u001b[0;34m\u001b[0m\u001b[0;34m\u001b[0m\u001b[0m\n\u001b[0m\u001b[1;32m    126\u001b[0m \u001b[0;34m\u001b[0m\u001b[0m\n\u001b[1;32m    127\u001b[0m                             \u001b[0;31m# update loss logs\u001b[0m\u001b[0;34m\u001b[0m\u001b[0;34m\u001b[0m\u001b[0;34m\u001b[0m\u001b[0m\n",
      "\u001b[0;32m/tf/notebook/0.research/kidney/2_segmentation_models/segmentation_models_pytorch/utils/train.py\u001b[0m in \u001b[0;36mtrain_batch_update\u001b[0;34m(self, x, y)\u001b[0m\n\u001b[1;32m    247\u001b[0m     \u001b[0;32mdef\u001b[0m \u001b[0mtrain_batch_update\u001b[0m\u001b[0;34m(\u001b[0m\u001b[0mself\u001b[0m\u001b[0;34m,\u001b[0m \u001b[0mx\u001b[0m\u001b[0;34m,\u001b[0m \u001b[0my\u001b[0m\u001b[0;34m)\u001b[0m\u001b[0;34m:\u001b[0m\u001b[0;34m\u001b[0m\u001b[0;34m\u001b[0m\u001b[0m\n\u001b[1;32m    248\u001b[0m         \u001b[0mself\u001b[0m\u001b[0;34m.\u001b[0m\u001b[0moptimizer\u001b[0m\u001b[0;34m.\u001b[0m\u001b[0mzero_grad\u001b[0m\u001b[0;34m(\u001b[0m\u001b[0;34m)\u001b[0m\u001b[0;34m\u001b[0m\u001b[0;34m\u001b[0m\u001b[0m\n\u001b[0;32m--> 249\u001b[0;31m         \u001b[0mtrain_prediction\u001b[0m \u001b[0;34m=\u001b[0m \u001b[0mself\u001b[0m\u001b[0;34m.\u001b[0m\u001b[0mmodel\u001b[0m\u001b[0;34m.\u001b[0m\u001b[0mforward\u001b[0m\u001b[0;34m(\u001b[0m\u001b[0mx\u001b[0m\u001b[0;34m)\u001b[0m\u001b[0;34m\u001b[0m\u001b[0;34m\u001b[0m\u001b[0m\n\u001b[0m\u001b[1;32m    250\u001b[0m         \u001b[0mtrain_loss\u001b[0m \u001b[0;34m=\u001b[0m \u001b[0mself\u001b[0m\u001b[0;34m.\u001b[0m\u001b[0mtrain_loss\u001b[0m\u001b[0;34m(\u001b[0m\u001b[0mtrain_prediction\u001b[0m\u001b[0;34m,\u001b[0m \u001b[0my\u001b[0m\u001b[0;34m)\u001b[0m\u001b[0;34m\u001b[0m\u001b[0;34m\u001b[0m\u001b[0m\n\u001b[1;32m    251\u001b[0m         \u001b[0mtrain_loss\u001b[0m\u001b[0;34m.\u001b[0m\u001b[0mbackward\u001b[0m\u001b[0;34m(\u001b[0m\u001b[0;34m)\u001b[0m\u001b[0;34m\u001b[0m\u001b[0;34m\u001b[0m\u001b[0m\n",
      "\u001b[0;32m/usr/local/lib/python3.6/dist-packages/torch/nn/parallel/data_parallel.py\u001b[0m in \u001b[0;36mforward\u001b[0;34m(self, *inputs, **kwargs)\u001b[0m\n\u001b[1;32m    165\u001b[0m             \u001b[0;32mreturn\u001b[0m \u001b[0mself\u001b[0m\u001b[0;34m.\u001b[0m\u001b[0mmodule\u001b[0m\u001b[0;34m(\u001b[0m\u001b[0;34m*\u001b[0m\u001b[0minputs\u001b[0m\u001b[0;34m[\u001b[0m\u001b[0;36m0\u001b[0m\u001b[0;34m]\u001b[0m\u001b[0;34m,\u001b[0m \u001b[0;34m**\u001b[0m\u001b[0mkwargs\u001b[0m\u001b[0;34m[\u001b[0m\u001b[0;36m0\u001b[0m\u001b[0;34m]\u001b[0m\u001b[0;34m)\u001b[0m\u001b[0;34m\u001b[0m\u001b[0;34m\u001b[0m\u001b[0m\n\u001b[1;32m    166\u001b[0m         \u001b[0mreplicas\u001b[0m \u001b[0;34m=\u001b[0m \u001b[0mself\u001b[0m\u001b[0;34m.\u001b[0m\u001b[0mreplicate\u001b[0m\u001b[0;34m(\u001b[0m\u001b[0mself\u001b[0m\u001b[0;34m.\u001b[0m\u001b[0mmodule\u001b[0m\u001b[0;34m,\u001b[0m \u001b[0mself\u001b[0m\u001b[0;34m.\u001b[0m\u001b[0mdevice_ids\u001b[0m\u001b[0;34m[\u001b[0m\u001b[0;34m:\u001b[0m\u001b[0mlen\u001b[0m\u001b[0;34m(\u001b[0m\u001b[0minputs\u001b[0m\u001b[0;34m)\u001b[0m\u001b[0;34m]\u001b[0m\u001b[0;34m)\u001b[0m\u001b[0;34m\u001b[0m\u001b[0;34m\u001b[0m\u001b[0m\n\u001b[0;32m--> 167\u001b[0;31m         \u001b[0moutputs\u001b[0m \u001b[0;34m=\u001b[0m \u001b[0mself\u001b[0m\u001b[0;34m.\u001b[0m\u001b[0mparallel_apply\u001b[0m\u001b[0;34m(\u001b[0m\u001b[0mreplicas\u001b[0m\u001b[0;34m,\u001b[0m \u001b[0minputs\u001b[0m\u001b[0;34m,\u001b[0m \u001b[0mkwargs\u001b[0m\u001b[0;34m)\u001b[0m\u001b[0;34m\u001b[0m\u001b[0;34m\u001b[0m\u001b[0m\n\u001b[0m\u001b[1;32m    168\u001b[0m         \u001b[0;32mreturn\u001b[0m \u001b[0mself\u001b[0m\u001b[0;34m.\u001b[0m\u001b[0mgather\u001b[0m\u001b[0;34m(\u001b[0m\u001b[0moutputs\u001b[0m\u001b[0;34m,\u001b[0m \u001b[0mself\u001b[0m\u001b[0;34m.\u001b[0m\u001b[0moutput_device\u001b[0m\u001b[0;34m)\u001b[0m\u001b[0;34m\u001b[0m\u001b[0;34m\u001b[0m\u001b[0m\n\u001b[1;32m    169\u001b[0m \u001b[0;34m\u001b[0m\u001b[0m\n",
      "\u001b[0;32m/usr/local/lib/python3.6/dist-packages/torch/nn/parallel/data_parallel.py\u001b[0m in \u001b[0;36mparallel_apply\u001b[0;34m(self, replicas, inputs, kwargs)\u001b[0m\n\u001b[1;32m    175\u001b[0m \u001b[0;34m\u001b[0m\u001b[0m\n\u001b[1;32m    176\u001b[0m     \u001b[0;32mdef\u001b[0m \u001b[0mparallel_apply\u001b[0m\u001b[0;34m(\u001b[0m\u001b[0mself\u001b[0m\u001b[0;34m,\u001b[0m \u001b[0mreplicas\u001b[0m\u001b[0;34m,\u001b[0m \u001b[0minputs\u001b[0m\u001b[0;34m,\u001b[0m \u001b[0mkwargs\u001b[0m\u001b[0;34m)\u001b[0m\u001b[0;34m:\u001b[0m\u001b[0;34m\u001b[0m\u001b[0;34m\u001b[0m\u001b[0m\n\u001b[0;32m--> 177\u001b[0;31m         \u001b[0;32mreturn\u001b[0m \u001b[0mparallel_apply\u001b[0m\u001b[0;34m(\u001b[0m\u001b[0mreplicas\u001b[0m\u001b[0;34m,\u001b[0m \u001b[0minputs\u001b[0m\u001b[0;34m,\u001b[0m \u001b[0mkwargs\u001b[0m\u001b[0;34m,\u001b[0m \u001b[0mself\u001b[0m\u001b[0;34m.\u001b[0m\u001b[0mdevice_ids\u001b[0m\u001b[0;34m[\u001b[0m\u001b[0;34m:\u001b[0m\u001b[0mlen\u001b[0m\u001b[0;34m(\u001b[0m\u001b[0mreplicas\u001b[0m\u001b[0;34m)\u001b[0m\u001b[0;34m]\u001b[0m\u001b[0;34m)\u001b[0m\u001b[0;34m\u001b[0m\u001b[0;34m\u001b[0m\u001b[0m\n\u001b[0m\u001b[1;32m    178\u001b[0m \u001b[0;34m\u001b[0m\u001b[0m\n\u001b[1;32m    179\u001b[0m     \u001b[0;32mdef\u001b[0m \u001b[0mgather\u001b[0m\u001b[0;34m(\u001b[0m\u001b[0mself\u001b[0m\u001b[0;34m,\u001b[0m \u001b[0moutputs\u001b[0m\u001b[0;34m,\u001b[0m \u001b[0moutput_device\u001b[0m\u001b[0;34m)\u001b[0m\u001b[0;34m:\u001b[0m\u001b[0;34m\u001b[0m\u001b[0;34m\u001b[0m\u001b[0m\n",
      "\u001b[0;32m/usr/local/lib/python3.6/dist-packages/torch/nn/parallel/parallel_apply.py\u001b[0m in \u001b[0;36mparallel_apply\u001b[0;34m(modules, inputs, kwargs_tup, devices)\u001b[0m\n\u001b[1;32m     84\u001b[0m         \u001b[0moutput\u001b[0m \u001b[0;34m=\u001b[0m \u001b[0mresults\u001b[0m\u001b[0;34m[\u001b[0m\u001b[0mi\u001b[0m\u001b[0;34m]\u001b[0m\u001b[0;34m\u001b[0m\u001b[0;34m\u001b[0m\u001b[0m\n\u001b[1;32m     85\u001b[0m         \u001b[0;32mif\u001b[0m \u001b[0misinstance\u001b[0m\u001b[0;34m(\u001b[0m\u001b[0moutput\u001b[0m\u001b[0;34m,\u001b[0m \u001b[0mExceptionWrapper\u001b[0m\u001b[0;34m)\u001b[0m\u001b[0;34m:\u001b[0m\u001b[0;34m\u001b[0m\u001b[0;34m\u001b[0m\u001b[0m\n\u001b[0;32m---> 86\u001b[0;31m             \u001b[0moutput\u001b[0m\u001b[0;34m.\u001b[0m\u001b[0mreraise\u001b[0m\u001b[0;34m(\u001b[0m\u001b[0;34m)\u001b[0m\u001b[0;34m\u001b[0m\u001b[0;34m\u001b[0m\u001b[0m\n\u001b[0m\u001b[1;32m     87\u001b[0m         \u001b[0moutputs\u001b[0m\u001b[0;34m.\u001b[0m\u001b[0mappend\u001b[0m\u001b[0;34m(\u001b[0m\u001b[0moutput\u001b[0m\u001b[0;34m)\u001b[0m\u001b[0;34m\u001b[0m\u001b[0;34m\u001b[0m\u001b[0m\n\u001b[1;32m     88\u001b[0m     \u001b[0;32mreturn\u001b[0m \u001b[0moutputs\u001b[0m\u001b[0;34m\u001b[0m\u001b[0;34m\u001b[0m\u001b[0m\n",
      "\u001b[0;32m/usr/local/lib/python3.6/dist-packages/torch/_utils.py\u001b[0m in \u001b[0;36mreraise\u001b[0;34m(self)\u001b[0m\n\u001b[1;32m    427\u001b[0m             \u001b[0;31m# have message field\u001b[0m\u001b[0;34m\u001b[0m\u001b[0;34m\u001b[0m\u001b[0;34m\u001b[0m\u001b[0m\n\u001b[1;32m    428\u001b[0m             \u001b[0;32mraise\u001b[0m \u001b[0mself\u001b[0m\u001b[0;34m.\u001b[0m\u001b[0mexc_type\u001b[0m\u001b[0;34m(\u001b[0m\u001b[0mmessage\u001b[0m\u001b[0;34m=\u001b[0m\u001b[0mmsg\u001b[0m\u001b[0;34m)\u001b[0m\u001b[0;34m\u001b[0m\u001b[0;34m\u001b[0m\u001b[0m\n\u001b[0;32m--> 429\u001b[0;31m         \u001b[0;32mraise\u001b[0m \u001b[0mself\u001b[0m\u001b[0;34m.\u001b[0m\u001b[0mexc_type\u001b[0m\u001b[0;34m(\u001b[0m\u001b[0mmsg\u001b[0m\u001b[0;34m)\u001b[0m\u001b[0;34m\u001b[0m\u001b[0;34m\u001b[0m\u001b[0m\n\u001b[0m\u001b[1;32m    430\u001b[0m \u001b[0;34m\u001b[0m\u001b[0m\n\u001b[1;32m    431\u001b[0m \u001b[0;34m\u001b[0m\u001b[0m\n",
      "\u001b[0;31mRuntimeError\u001b[0m: Caught RuntimeError in replica 0 on device 0.\nOriginal Traceback (most recent call last):\n  File \"/usr/local/lib/python3.6/dist-packages/torch/nn/parallel/parallel_apply.py\", line 61, in _worker\n    output = module(*input, **kwargs)\n  File \"/usr/local/lib/python3.6/dist-packages/torch/nn/modules/module.py\", line 889, in _call_impl\n    result = self.forward(*input, **kwargs)\n  File \"/tf/notebook/0.research/kidney/2_segmentation_models/segmentation_models_pytorch/base/model.py\", line 29, in forward\n    features = self.encoder(x)\n  File \"/usr/local/lib/python3.6/dist-packages/torch/nn/modules/module.py\", line 889, in _call_impl\n    result = self.forward(*input, **kwargs)\n  File \"/tf/notebook/0.research/kidney/2_segmentation_models/segmentation_models_pytorch/encoders/resnet.py\", line 62, in forward\n    x = stages[i](x)\n  File \"/usr/local/lib/python3.6/dist-packages/torch/nn/modules/module.py\", line 889, in _call_impl\n    result = self.forward(*input, **kwargs)\n  File \"/usr/local/lib/python3.6/dist-packages/torch/nn/modules/container.py\", line 119, in forward\n    input = module(input)\n  File \"/usr/local/lib/python3.6/dist-packages/torch/nn/modules/module.py\", line 889, in _call_impl\n    result = self.forward(*input, **kwargs)\n  File \"/usr/local/lib/python3.6/dist-packages/torchvision/models/resnet.py\", line 124, in forward\n    out = self.conv1(x)\n  File \"/usr/local/lib/python3.6/dist-packages/torch/nn/modules/module.py\", line 889, in _call_impl\n    result = self.forward(*input, **kwargs)\n  File \"/usr/local/lib/python3.6/dist-packages/torch/nn/modules/conv.py\", line 399, in forward\n    return self._conv_forward(input, self.weight, self.bias)\n  File \"/usr/local/lib/python3.6/dist-packages/torch/nn/modules/conv.py\", line 396, in _conv_forward\n    self.padding, self.dilation, self.groups)\nRuntimeError: CUDA out of memory. Tried to allocate 38.00 MiB (GPU 0; 10.92 GiB total capacity; 10.09 GiB already allocated; 31.50 MiB free; 10.13 GiB reserved in total by PyTorch)\n"
     ]
    }
   ],
   "source": [
    "# 2023.2.25 added  for k-fold\n",
    "# from tqdm.notebook import tqdm\n",
    "path = f'./1_weight/best_model_deeplabv3_DiceLoss_0302_'\n",
    "train_logs_list, valid_logs_list = train_k_fold_epoch.run(dataset, k=3, train_bz=10, valid_bz=5, epochs=170, model=model, path=path)"
   ]
  },
  {
   "cell_type": "code",
   "execution_count": null,
   "metadata": {},
   "outputs": [],
   "source": [
    "# valid_logs['dice_loss']#0.18774815400441489\n",
    "# # # max_score\n",
    "# # # valid_logs_list\n",
    "# valid_logs_list\n",
    "# train_logs_list"
   ]
  },
  {
   "cell_type": "markdown",
   "metadata": {},
   "source": [
    "### learning curve"
   ]
  },
  {
   "cell_type": "code",
   "execution_count": null,
   "metadata": {},
   "outputs": [],
   "source": [
    "import pandas as pd\n",
    "# assign data of lists\n",
    "train_logs_df = pd.DataFrame(train_logs_list)\n",
    "valid_logs_df = pd.DataFrame(valid_logs_list)\n",
    "# train_logs_df／"
   ]
  },
  {
   "cell_type": "code",
   "execution_count": null,
   "metadata": {},
   "outputs": [],
   "source": [
    "# # plot dice loss\n",
    "\n",
    "# #前面先用list將要畫的變數存起來\n",
    "\n",
    "# #迭代了10次(epoch)，所以x的取值範圍是(0，10)，然後再把每次相對應的準確率和loss值附在x上\n",
    "\n",
    "\n",
    "# # x1 = range(0, epochs)\n",
    "# x1 = range(0, 170) #train_logs_list.index.tolist()\n",
    "# # x2 = valid_logs_list.index.tolist()\n",
    "\n",
    "# #jaccard_loss or dice_loss\n",
    "# y1 = train_logs_df.dice_loss.tolist()#.tolist()可以將NumPy 陣列轉換為列表\n",
    "# y2 = valid_logs_df.dice_loss.tolist()\n",
    "\n",
    "# # subplot(numRows, numCols, plotNum) \n",
    "# # https://blog.csdn.net/gatieme/article/details/61416645\n",
    "    \n",
    "# # train_iou / train_iou\n",
    "# plt.plot(x1, y1, linestyle='-', color='#9932cc')\n",
    "\n",
    "# # valid_iou / valid_iou\n",
    "# plt.plot(x1, y2, linestyle='-', color='#1e90ff') \n",
    "\n",
    "\n",
    "# plt.title('dice loss vs. epoches')\n",
    "# plt.xlabel('Epochs')\n",
    "# plt.ylabel('dice loss')\n",
    "# plt.legend(('training', 'validation'),bbox_to_anchor=(1.05, 1.0), loc='upper left')\n",
    "# # plt.ylim(0.975,1.005)\n",
    "\n",
    "# plt.show()"
   ]
  },
  {
   "cell_type": "code",
   "execution_count": null,
   "metadata": {
    "scrolled": true
   },
   "outputs": [],
   "source": [
    "#畫圖\n",
    "\n",
    "#前面先用list將要畫的變數存起來\n",
    "\n",
    "#迭代了10次(epoch)，所以x的取值範圍是(0，10)，然後再把每次相對應的準確率和loss值附在x上\n",
    "\n",
    "\n",
    "# x1 = range(0, epochs)\n",
    "x1 = range(0, 170) #train_logs_list.index.tolist()\n",
    "# x2 = valid_logs_list.index.tolist()\n",
    "\n",
    "#jaccard_loss or dice_loss or tversky_loss\n",
    "y1 = train_logs_df.hausdorffdt_loss.tolist()#.tolist()可以將NumPy 陣列轉換為列表\n",
    "y2 = valid_logs_df.hausdorffdt_loss.tolist()\n",
    "\n",
    "\n",
    "# train_Accuracy / valid_Accuracy\n",
    "# plt.subplot(2, 1, 1) \n",
    "#subplot(numRows, numCols, plotNum) \n",
    "#https://blog.csdn.net/gatieme/article/details/61416645\n",
    "#------ fold 1-------\n",
    "plt.plot(x1, y1[:170],linestyle='-')#, color='#9932cc'\n",
    "plt.plot(x1, y2[:170], linestyle='-') #, color='#1e90ff'\n",
    "#------ fold 2-------\n",
    "plt.plot(x1, y1[170:340],linestyle='-')\n",
    "plt.plot(x1, y2[170:340], linestyle='-')\n",
    "#------ fold 3-------\n",
    "plt.plot(x1, y1[340:510],linestyle='-')\n",
    "plt.plot(x1, y2[340:510],linestyle='-')\n",
    "#------ fold 4-------\n",
    "# plt.plot(x1, y1[510:680], linestyle='-') \n",
    "# plt.plot(x1, y2[510:680],linestyle='-')\n",
    "# #------ fold 5-------\n",
    "# plt.plot(x1, y1[680:], linestyle='-') \n",
    "# plt.plot(x1, y2[680:],linestyle='-')\n",
    "\n",
    "plt.title('hausdorff loss vs. epoches')\n",
    "plt.xlabel('Epochs')\n",
    "plt.ylabel('dice loss')\n",
    "plt.legend(('fold 1 training', 'fold 1 validation', 'fold 2 training', 'fold 2 validation', 'fold 3 training', 'fold 3 validation', \n",
    "           ),bbox_to_anchor=(1.05, 1.0), loc='upper left')\n",
    "# plt.ylim(0.975,1.005)\n",
    "# plt.ylim(0.975,1.005)\n",
    "\n",
    "plt.show()\n",
    "plt.savefig(\"accuracy_loss.jpg\")"
   ]
  },
  {
   "cell_type": "code",
   "execution_count": null,
   "metadata": {},
   "outputs": [],
   "source": [
    "# # plot iou score\n",
    "\n",
    "# #前面先用list將要畫的變數存起來\n",
    "\n",
    "# #迭代了10次(epoch)，所以x的取值範圍是(0，10)，然後再把每次相對應的準確率和loss值附在x上\n",
    "\n",
    "\n",
    "# # x1 = range(0, epochs)\n",
    "# x1 = range(0, 170) #train_logs_list.index.tolist()\n",
    "# # x2 = valid_logs_list.index.tolist()\n",
    "\n",
    "# y1 = train_logs_df.iou_score.tolist()#可以將NumPy 陣列轉換為列表\n",
    "# y2 = valid_logs_df.iou_score.tolist()\n",
    "\n",
    "# # subplot(numRows, numCols, plotNum) \n",
    "# # https://blog.csdn.net/gatieme/article/details/61416645\n",
    "    \n",
    "# # train_iou / train_iou\n",
    "# plt.plot(x1, y1, linestyle='-', color='#9932cc')\n",
    "\n",
    "# # valid_iou / valid_iou\n",
    "# plt.plot(x1, y2, linestyle='-', color='#1e90ff') \n",
    "\n",
    "\n",
    "# plt.title('IOU vs. epoches')\n",
    "# plt.xlabel('Epochs')\n",
    "# plt.ylabel('IOU score')\n",
    "# plt.legend(('training', 'validation'),bbox_to_anchor=(1.05, 1.0), loc='upper left')\n",
    "# # plt.ylim(0.975,1.005)\n",
    "\n",
    "# plt.show()"
   ]
  },
  {
   "cell_type": "code",
   "execution_count": null,
   "metadata": {},
   "outputs": [],
   "source": [
    "x1 = range(0, 170) #train_logs_list.index.tolist()\n",
    "# x2 = valid_logs_list.index.tolist()\n",
    "\n",
    "#jaccard_loss or dice_loss\n",
    "y1 = train_logs_df.iou_score.tolist()#.tolist()可以將NumPy 陣列轉換為列表\n",
    "y2 = valid_logs_df.iou_score.tolist()\n",
    "\n",
    "\n",
    "# train_Accuracy / valid_Accuracy\n",
    "# plt.subplot(2, 1, 1) \n",
    "#subplot(numRows, numCols, plotNum) \n",
    "#https://blog.csdn.net/gatieme/article/details/61416645\n",
    "#------ fold 1-------\n",
    "plt.plot(x1, y1[:170],linestyle='-')#, color='#9932cc'\n",
    "plt.plot(x1, y2[:170], linestyle='-') #, color='#1e90ff'\n",
    "#------ fold 2-------\n",
    "plt.plot(x1, y1[170:340],linestyle='-')\n",
    "plt.plot(x1, y2[170:340], linestyle='-')\n",
    "#------ fold 3-------\n",
    "plt.plot(x1, y1[340:510],linestyle='-')\n",
    "plt.plot(x1, y2[340:510],linestyle='-')\n",
    "#------ fold 4-------\n",
    "# plt.plot(x1, y1[510:680], linestyle='-') \n",
    "# plt.plot(x1, y2[510:680],linestyle='-')\n",
    "# #------ fold 5-------\n",
    "# plt.plot(x1, y1[680:], linestyle='-') \n",
    "# plt.plot(x1, y2[680:],linestyle='-')\n",
    "\n",
    "plt.title('IoU score vs. epoches')\n",
    "plt.xlabel('Epochs')\n",
    "plt.ylabel('Score')\n",
    "plt.legend(('fold 1 training', 'fold 1 validation', 'fold 2 training', 'fold 2 validation', 'fold 3 training', 'fold 3 validation', \n",
    "           ),bbox_to_anchor=(1.05, 1.0), loc='upper left')\n",
    "# plt.ylim(0.975,1.005)\n",
    "# plt.ylim(0.975,1.005)\n",
    "\n",
    "\n",
    "plt.show()\n",
    "plt.savefig(\"accuracy_loss.jpg\")"
   ]
  },
  {
   "cell_type": "markdown",
   "metadata": {},
   "source": [
    "## Test best saved model"
   ]
  },
  {
   "cell_type": "code",
   "execution_count": null,
   "metadata": {},
   "outputs": [],
   "source": [
    "# load best saved checkpoint\n",
    "best_model = torch.load('./1_weight/best_model_deeplabv3_DiceLoss_0302_fold1.pth')\n",
    "# 2023.2.18 added (因為訓練是用 2 個 gpu，若不加以下程式碼，會出現 DataParallel' object has no attribute 'predict' 錯誤)\n",
    "if isinstance(best_model,torch.nn.DataParallel):\n",
    "    best_model = best_model.module\n",
    "best_model.eval()"
   ]
  },
  {
   "cell_type": "code",
   "execution_count": null,
   "metadata": {},
   "outputs": [],
   "source": [
    "# create test dataset\n",
    "test_dataset = Dataset(\n",
    "    x_test_dir, \n",
    "    y_test_dir, \n",
    "    augmentation=get_validation_augmentation(), \n",
    "    preprocessing=get_preprocessing(preprocessing_fn),\n",
    "    classes=CLASSES,\n",
    ")\n",
    "\n",
    "test_dataloader = DataLoader(test_dataset, batch_size=3)"
   ]
  },
  {
   "cell_type": "code",
   "execution_count": null,
   "metadata": {},
   "outputs": [],
   "source": [
    "# evaluate model on test set\n",
    "test_epoch = smp.utils.train.ValidEpoch(\n",
    "    model=best_model,\n",
    "    valid_loss=valid_loss,\n",
    "    train_loss=None,\n",
    "    metrics=metrics,\n",
    "    device=DEVICE,\n",
    ")\n",
    "\n",
    "logs = test_epoch.test_run(test_dataloader)"
   ]
  },
  {
   "cell_type": "markdown",
   "metadata": {},
   "source": [
    "## Visualize predictions"
   ]
  },
  {
   "cell_type": "code",
   "execution_count": null,
   "metadata": {},
   "outputs": [],
   "source": [
    "# test dataset without transformations for image visualization\n",
    "test_dataset_vis = Dataset(\n",
    "    x_test_dir, y_test_dir, \n",
    "    classes=CLASSES,\n",
    ")"
   ]
  },
  {
   "cell_type": "code",
   "execution_count": null,
   "metadata": {
    "scrolled": true,
    "tags": []
   },
   "outputs": [],
   "source": [
    "for i in range(5):\n",
    "    n = np.random.choice(len(test_dataset))\n",
    "    \n",
    "    image_vis = test_dataset_vis[n][0].astype('uint8')\n",
    "    image, gt_mask = test_dataset[n]\n",
    "    \n",
    "    gt_mask = gt_mask.squeeze()\n",
    "    \n",
    "    x_tensor = torch.from_numpy(image).to(DEVICE).unsqueeze(0)\n",
    "    pr_mask = best_model.predict(x_tensor)\n",
    "    pr_mask = (pr_mask.squeeze().cpu().numpy().round())\n",
    "        \n",
    "#     visualize(\n",
    "#         image=image_vis, \n",
    "#         ground_truth_mask=gt_mask, \n",
    "#         predicted_mask=pr_mask\n",
    "#     )"
   ]
  },
  {
   "cell_type": "markdown",
   "metadata": {},
   "source": [
    "### plot confusion matrix"
   ]
  },
  {
   "cell_type": "code",
   "execution_count": null,
   "metadata": {},
   "outputs": [],
   "source": [
    "# print(gt_mask[0])\n",
    "# print(gt_mask[0][0])\n",
    "# print(gt_mask[0].shape)\n",
    "# print(gt_mask[0].reshape(-1,1).shape)"
   ]
  },
  {
   "cell_type": "code",
   "execution_count": null,
   "metadata": {},
   "outputs": [],
   "source": [
    "\n",
    "# # calculate confusion matrix\n",
    "# # https://datascience.stackexchange.com/questions/28493/confusion-matrix-get-items-fp-fn-tp-tn-python\n",
    "\n",
    "# def conf_matrix(y_gt, y_pred):\n",
    "#     tp = 0\n",
    "#     fp = 0\n",
    "#     tn = 0\n",
    "#     fn = 0\n",
    "    \n",
    "    # for i in range(len(y_pred)):\n",
    "    #     for j in range(len(y_pred)):\n",
    "    #         if y_pred[i][j] == y_gt[i][j] == 1:\n",
    "    #             tp += 1\n",
    "    #         if y_pred[i][j] == 1 and y_gt[i][j] != y_pred[i][j]:\n",
    "    #             fp += 1\n",
    "    #         if y_pred[i][j] == y_gt[i][j] == 0:\n",
    "    #             tn += 1\n",
    "    #         if y_pred[i][j] == 0 and y_gt[i][j] != y_pred[i][j]:\n",
    "    #             fn += 1\n",
    "    \n",
    "    # for j in range(len(pr_mask)):\n",
    "    #     for k in range(len(pr_mask)):\n",
    "    #         if (pr_mask[j][k] == 1 and gt_mask[j][k] == 1):\n",
    "    #             tp += 1\n",
    "    #         if (pr_mask[j][k] == 1 and gt_mask[j][k] == 0):\n",
    "    #             fp += 1\n",
    "    #         if (pr_mask[j][k] == 0 and gt_mask[j][k] == 0):\n",
    "    #             tn += 1\n",
    "    #         if (pr_mask[j][k] == 0 and gt_mask[j][k] == 1): \n",
    "    #             fn += 1\n",
    "            \n",
    "    # return(tp, fp, tn, fn)"
   ]
  },
  {
   "cell_type": "code",
   "execution_count": null,
   "metadata": {},
   "outputs": [],
   "source": [
    "import seaborn as sn\n",
    "from sklearn.metrics import confusion_matrix\n",
    "import pandas as pd\n",
    "\n",
    "cf_matrix = confusion_matrix(gt_mask.reshape(-1,1), pr_mask.reshape(-1,1))\n",
    "# tn, fp, fn, tp = confusion_matrix(list(gt_mask), list(pr_mask), labels=[0, 1]).ravel()\n",
    "# tn, fp, fn, tp = conf_matrix(gt_mask.reshape(-1,1), pr_mask.reshape(-1,1))\n",
    "print('confusion_matrix : ')\n",
    "df_cm = pd.DataFrame(cf_matrix, \n",
    "                         index = [0, 1],\n",
    "                         columns = [0, 1])\n",
    "print(df_cm)\n",
    "\n",
    "# https://medium.com/@dtuk81/confusion-matrix-visualization-fc31e3f30fea\n",
    "x_axis_labels = ['Background', 'kidney']\n",
    "y_axis_labels = ['Background', 'kidney']\n",
    "\n",
    "plt.figure(figsize = (6,5))\n",
    "sn.heatmap(cf_matrix/np.sum(cf_matrix), annot=True, cmap='RdPu', xticklabels=x_axis_labels, yticklabels=y_axis_labels)\n",
    "plt.title('Confusion Matrix')\n",
    "plt.xlabel(\"predictions\")\n",
    "plt.ylabel(\"ground truth\")\n",
    "plt.show()"
   ]
  },
  {
   "cell_type": "code",
   "execution_count": null,
   "metadata": {},
   "outputs": [],
   "source": [
    "# print(np.sum(cf_matrix))# test_data數量\n",
    "# print(cf_matrix)\n",
    "len(gt_mask)"
   ]
  },
  {
   "cell_type": "markdown",
   "metadata": {},
   "source": [
    "### metrics"
   ]
  },
  {
   "cell_type": "code",
   "execution_count": null,
   "metadata": {},
   "outputs": [],
   "source": [
    "# 有兩種方法\n",
    "# tp, fp, tn, fn = confusion_matrix(gt_mask.reshape(-1,1), pr_mask.reshape(-1,1)).ravel()\n",
    "tn, fp, fn, tp = confusion_matrix(gt_mask.reshape(-1,1), pr_mask.reshape(-1,1)).ravel()\n",
    "# or\n",
    "# tp = cf_matrix[0][0]\n",
    "# fp = cf_matrix[0][1]\n",
    "# tn = cf_matrix[1][0]\n",
    "# fn = cf_matrix[1][1]\n",
    "\n",
    "print('TP: ' + str(tp) + ' pixels')\n",
    "print('FP: ' + str(fp) + ' pixels')\n",
    "print('TN: ' + str(tn) + ' pixels')\n",
    "print('FN: ' + str(fn) + ' pixels')"
   ]
  },
  {
   "cell_type": "code",
   "execution_count": null,
   "metadata": {},
   "outputs": [],
   "source": [
    "accuracy = (tp + tn) / (tp + tn + fp + fn)\n",
    "print('accuracy = ', accuracy)\n",
    "\n",
    "recall = tp / (tp + fn)\n",
    "print('recall = ', recall)\n",
    "\n",
    "precision = tp / (tp + fp)\n",
    "print('precision = ', precision)\n",
    "\n",
    "specificity = tn / (tn + fp)\n",
    "print('specificity = ', specificity)\n",
    "\n",
    "f1_score = (2 * tp) / ((2 * tp) + fp + fn)\n",
    "print('f1 score = ', f1_score)\n",
    "\n",
    "iou = tp / (tp + fp + fn)\n",
    "print('IoU score = ', iou)"
   ]
  },
  {
   "cell_type": "code",
   "execution_count": null,
   "metadata": {},
   "outputs": [],
   "source": [
    "# logs"
   ]
  },
  {
   "cell_type": "code",
   "execution_count": null,
   "metadata": {},
   "outputs": [],
   "source": [
    "data = [accuracy, precision, recall, specificity, f1_score, iou]\n",
    "datafeame = pd.DataFrame(data,\n",
    "                         columns = ['Value'],\n",
    "                         index = ['Accuracy', 'Recall', 'Precision', 'Specificity', 'F1 score', 'IoU score'])\n",
    "\n",
    "datafeame"
   ]
  },
  {
   "cell_type": "code",
   "execution_count": null,
   "metadata": {
    "scrolled": true
   },
   "outputs": [],
   "source": [
    "# import sys\n",
    "# import numpy\n",
    "# numpy.set_printoptions(threshold=sys.maxsize)\n",
    "# # print(gt_mask.reshape(-1,1))\n",
    "# print(gt_mask)\n",
    "# print(pr_mask)"
   ]
  },
  {
   "cell_type": "markdown",
   "metadata": {},
   "source": [
    "https://towardsdatascience.com/a-simple-explanation-of-the-roc-curve-and-auc-64db32d75541\n",
    "https://www.kaggle.com/code/kmader/use-roc-curves-to-evaluate-segmentation-methods"
   ]
  },
  {
   "cell_type": "code",
   "execution_count": null,
   "metadata": {},
   "outputs": [],
   "source": [
    "import seaborn as sns\n",
    "from sklearn.metrics import roc_curve, auc\n",
    "sns.set_style('darkgrid')\n",
    "\n",
    "fpr, tpr, thresholds = roc_curve(gt_mask.reshape(-1,1), pr_mask.reshape(-1,1))\n",
    "def ROC_curve(fpr,tpr):\n",
    "    # Seaborn's beautiful styling\n",
    "#     sns.set_style('darkgrid', {'axes.facecolor': '0.9'})\n",
    "#     plt.figure(figsize=(8, 5))\n",
    "#     lw = 2\n",
    "#     plt.plot(fpr, tpr, color='#eb669a', label='ROC')\n",
    "    plt.plot(fpr, tpr, color='#eb669a', label='ROC curve (area = %0.3f)' % auc(fpr, tpr))\n",
    "    plt.plot([0, 1], [0, 1], color='#4cc28e', linestyle='--')\n",
    "#     plt.xlim([0.0, 1.0])\n",
    "#     plt.ylim([0.0, 1.05])\n",
    "#     plt.yticks([i/20.0 for i in range(21)])\n",
    "#     plt.xticks([i/20.0 for i in range(21)])\n",
    "    plt.xlabel('False Positive Rate')\n",
    "    plt.ylabel('True Positive Rate')\n",
    "    plt.title('Receiver operating characteristic (ROC) Curve')\n",
    "    plt.legend(loc='lower right')\n",
    "    plt.show()\n",
    "    \n",
    "ROC_curve(fpr,tpr)\n",
    "# print('AUROC: {}'.format(auc(fpr, tpr)))"
   ]
  },
  {
   "cell_type": "code",
   "execution_count": null,
   "metadata": {},
   "outputs": [],
   "source": []
  },
  {
   "cell_type": "code",
   "execution_count": null,
   "metadata": {},
   "outputs": [],
   "source": []
  }
 ],
 "metadata": {
  "kernelspec": {
   "display_name": "Python 3 (ipykernel)",
   "language": "python",
   "name": "python3"
  },
  "language_info": {
   "codemirror_mode": {
    "name": "ipython",
    "version": 3
   },
   "file_extension": ".py",
   "mimetype": "text/x-python",
   "name": "python",
   "nbconvert_exporter": "python",
   "pygments_lexer": "ipython3",
   "version": "3.10.12"
  }
 },
 "nbformat": 4,
 "nbformat_minor": 4
}
